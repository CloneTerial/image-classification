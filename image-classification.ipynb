{
  "nbformat": 4,
  "nbformat_minor": 0,
  "metadata": {
    "colab": {
      "provenance": [],
      "gpuType": "T4",
      "include_colab_link": true
    },
    "kernelspec": {
      "name": "python3",
      "display_name": "Python 3"
    },
    "language_info": {
      "name": "python"
    },
    "accelerator": "GPU"
  },
  "cells": [
    {
      "cell_type": "markdown",
      "metadata": {
        "id": "view-in-github",
        "colab_type": "text"
      },
      "source": [
        "<a href=\"https://colab.research.google.com/github/CloneTerial/image-classification/blob/main/image-classification.ipynb\" target=\"_parent\"><img src=\"https://colab.research.google.com/assets/colab-badge.svg\" alt=\"Open In Colab\"/></a>"
      ]
    },
    {
      "cell_type": "markdown",
      "source": [
        "# 1.Persiapan dan instalasi\n",
        "\n",
        "### colab biasanya sudah menyediakan tensorflow dan juga matploblib namun jika belum install secara manual"
      ],
      "metadata": {
        "id": "gfxZs_0XgQVH"
      }
    },
    {
      "cell_type": "code",
      "source": [
        "!pip install tensorflow matplotlib"
      ],
      "metadata": {
        "id": "AD7QMt-MgTm_"
      },
      "execution_count": null,
      "outputs": []
    },
    {
      "cell_type": "code",
      "source": [
        "import tensorflow as tf\n",
        "from tensorflow.keras.models import Sequential\n",
        "from tensorflow.keras.layers import Conv2D, MaxPooling2D, Flatten, Dense, Dropout\n",
        "from tensorflow.keras.datasets import cifar10\n",
        "from tensorflow.keras.utils import to_categorical\n",
        "import matplotlib.pyplot as plt"
      ],
      "metadata": {
        "id": "-1upGEFmoyqO"
      },
      "execution_count": null,
      "outputs": []
    },
    {
      "cell_type": "markdown",
      "source": [
        "# 2. Memuat dan menyiapkan dataset CIFAR(10)"
      ],
      "metadata": {
        "id": "Xgaz0AnigcR7"
      }
    },
    {
      "cell_type": "code",
      "execution_count": null,
      "metadata": {
        "id": "-xCxndJ_n_Si"
      },
      "outputs": [],
      "source": [
        "# CIFAR-10\n",
        "(train_images, train_labels), (test_images, test_labels) = cifar10.load_data()\n",
        "\n",
        "# Normalisasi nilai pixel (0-255 menjadi 0-1)\n",
        "train_images, test_images = train_images / 255.0, test_images / 255.0\n",
        "\n",
        "# One-hot encode label\n",
        "train_labels = to_categorical(train_labels, 10)\n",
        "test_labels = to_categorical(test_labels, 10)\n",
        "\n",
        "# Tampilkan contoh data\n",
        "class_names = ['pesawat', 'mobil', 'Burung', 'kucing', 'rusa', 'anjing', 'kodok', 'kuda', 'kapal', 'Truck']\n",
        "plt.figure(figsize=(10, 10))\n",
        "for i in range(25):\n",
        "    plt.subplot(5, 5, i + 1)\n",
        "    plt.xticks([])\n",
        "    plt.yticks([])\n",
        "    plt.grid(False)\n",
        "    plt.imshow(train_images[i], cmap=plt.cm.binary)\n",
        "    plt.xlabel(class_names[train_labels[i].argmax()])\n",
        "plt.show()"
      ]
    },
    {
      "cell_type": "markdown",
      "source": [
        "# 3. Membangun model CNN"
      ],
      "metadata": {
        "id": "sQx9obrjgm14"
      }
    },
    {
      "cell_type": "code",
      "source": [
        "model = Sequential([\n",
        "\n",
        "Conv2D(32, (3, 3), activation='relu', input_shape=(32, 32, 3)),\n",
        "    MaxPooling2D((2, 2)),\n",
        "    Conv2D(64, (3, 3), activation='relu'),\n",
        "   MaxPooling2D((2, 2)),\n",
        "    Conv2D(64, (3, 3), activation='relu'),\n",
        "    Flatten(),\n",
        "   Dense(64, activation='relu'),\n",
        "    Dropout(0.5),  # Mengurangi overfitting\n",
        "    Dense(10, activation='softmax')  # Output layer untuk 10 kelas\n",
        "])\n",
        "model.compile(optimizer='adam',\n",
        "              loss='categorical_crossentropy',\n",
        "              metrics=['accuracy'])"
      ],
      "metadata": {
        "id": "wDpHL8TYo76R"
      },
      "execution_count": null,
      "outputs": []
    },
    {
      "cell_type": "markdown",
      "source": [
        "# 4. Training model"
      ],
      "metadata": {
        "id": "nqAg9Wcbg4SC"
      }
    },
    {
      "cell_type": "code",
      "source": [
        "#Latih Model\n",
        "history = model.fit(train_images, train_labels, epochs=10,\n",
        "                    validation_data=(test_images, test_labels))"
      ],
      "metadata": {
        "id": "_63mlyV7pIrz"
      },
      "execution_count": null,
      "outputs": []
    },
    {
      "cell_type": "markdown",
      "source": [
        "## 4.1 Visualisasi akurasi dengan Matplotlib dan save model"
      ],
      "metadata": {
        "id": "895Eko6Oi9ZP"
      }
    },
    {
      "cell_type": "code",
      "source": [
        "test_loss, test_acc = model.evaluate(test_images, test_labels)\n",
        "print(f\"Test accuracy: {test_acc:.2f}\")\n",
        "\n",
        "\n",
        "plt.plot(history.history['accuracy'], label='Training Accuracy')\n",
        "plt.plot(history.history['val_accuracy'], label='Validation Accuracy')\n",
        "plt.xlabel('Epoch')\n",
        "plt.ylabel('Accuracy')\n",
        "plt.legend()\n",
        "plt.show()\n",
        "\n",
        "\n",
        "model.save('cifar10_image_classifier.keras')"
      ],
      "metadata": {
        "id": "Qlhu1pnzjC0G"
      },
      "execution_count": null,
      "outputs": []
    },
    {
      "cell_type": "markdown",
      "source": [
        "# 5. Prediksi dengan gambar dari dataset"
      ],
      "metadata": {
        "id": "GGiIsO24g5-K"
      }
    },
    {
      "cell_type": "code",
      "source": [
        "#Prediksi Contoh\n",
        "predictions = model.predict(test_images[:5])\n",
        "\n",
        "#Tampilkan hasil prediksi\n",
        "for i in range(5):\n",
        "    plt.imshow(test_images[i])\n",
        "    plt.title(f\"Prediction: {class_names[predictions[i].argmax()]}\")\n",
        "    plt.show()"
      ],
      "metadata": {
        "id": "k11ww7eUpO7L"
      },
      "execution_count": null,
      "outputs": []
    },
    {
      "cell_type": "markdown",
      "source": [
        "# 6. Prediksi dengan gambar custom"
      ],
      "metadata": {
        "id": "nFuzHGYjhNEX"
      }
    },
    {
      "cell_type": "code",
      "source": [
        "from tensorflow.keras.preprocessing import image\n",
        "import numpy as np\n",
        "\n",
        "# memuat dan memproses gambar\n",
        "def preprocess_image(img_path):\n",
        "    img = image.load_img(img_path, target_size=(32, 32))  # Ubah ukuran gambar ke (32, 32)\n",
        "    img_array = image.img_to_array(img)  # Konversi ke array NumPy\n",
        "    img_array = img_array / 255.0       # Normalisasi nilai pixel\n",
        "    img_array = np.expand_dims(img_array, axis=0)  # Tambahkan dimensi batch\n",
        "    return img_array\n",
        "\n",
        "# path ke gambar\n",
        "custom_image_path = 'plane.jpeg'\n",
        "\n",
        "# Preprocess gambar\n",
        "custom_image = preprocess_image(custom_image_path)\n",
        "\n",
        "# Prediksi dengan model\n",
        "prediction = model.predict(custom_image)\n",
        "\n",
        "# Tampilkan hasil prediksi\n",
        "predicted_class = class_names[np.argmax(prediction)]\n",
        "print(f\"Predicted: {predicted_class}\")\n",
        "img = image.load_img(custom_image_path, target_size=(32, 32))\n",
        "plt.imshow(img)\n",
        "plt.title(f\"Prediksi sebagai: {predicted_class}\")\n",
        "plt.axis('off')\n",
        "plt.show()"
      ],
      "metadata": {
        "id": "3K4G8-lhqORg"
      },
      "execution_count": null,
      "outputs": []
    },
    {
      "cell_type": "markdown",
      "source": [
        "# 7. keseluruhan code"
      ],
      "metadata": {
        "id": "TD96tJMHjsc7"
      }
    },
    {
      "cell_type": "code",
      "source": [
        "# Import Library yang Diperlukan\n",
        "import tensorflow as tf\n",
        "from tensorflow.keras.models import Sequential\n",
        "from tensorflow.keras.layers import Conv2D, MaxPooling2D, Flatten, Dense, Dropout\n",
        "from tensorflow.keras.datasets import cifar10\n",
        "from tensorflow.keras.utils import to_categorical\n",
        "import matplotlib.pyplot as plt\n",
        "from tensorflow.keras.preprocessing import image\n",
        "import numpy as np\n",
        "\n",
        "# CIFAR-10\n",
        "(train_images, train_labels), (test_images, test_labels) = cifar10.load_data()\n",
        "\n",
        "# Normalisasi nilai pixel (0-255 menjadi 0-1)\n",
        "train_images, test_images = train_images / 255.0, test_images / 255.0\n",
        "\n",
        "# One-hot encode label\n",
        "train_labels = to_categorical(train_labels, 10)\n",
        "test_labels = to_categorical(test_labels, 10)\n",
        "\n",
        "# Tampilkan contoh data\n",
        "class_names = ['Pesawat', 'Mobil', 'Burung', 'Kucing', 'Rusa', 'Anjing', 'Kodok', 'Kuda', 'Kapal', 'Truk']\n",
        "plt.figure(figsize=(10, 10))\n",
        "for i in range(25):\n",
        "    plt.subplot(5, 5, i + 1)\n",
        "    plt.xticks([])\n",
        "    plt.yticks([])\n",
        "    plt.grid(False)\n",
        "    plt.imshow(train_images[i], cmap=plt.cm.binary)\n",
        "    plt.xlabel(class_names[train_labels[i].argmax()])\n",
        "plt.show()\n",
        "\n",
        "# Model CNN\n",
        "model = Sequential([\n",
        "    Conv2D(32, (3, 3), activation='relu', input_shape=(32, 32, 3)),\n",
        "    MaxPooling2D((2, 2)),\n",
        "    Conv2D(64, (3, 3), activation='relu'),\n",
        "    MaxPooling2D((2, 2)),\n",
        "    Conv2D(64, (3, 3), activation='relu'),\n",
        "    Flatten(),\n",
        "    Dense(64, activation='relu'),\n",
        "    Dropout(0.5),  # Dropout untuk mengurangi overfitting\n",
        "    Dense(10, activation='softmax')  # Layer output untuk 10 kelas\n",
        "])\n",
        "\n",
        "# Kompilasi Model\n",
        "model.compile(optimizer='adam',\n",
        "              loss='categorical_crossentropy',\n",
        "              metrics=['accuracy'])\n",
        "\n",
        "# Latih Model\n",
        "history = model.fit(train_images, train_labels, epochs=10,\n",
        "                    validation_data=(test_images, test_labels))\n",
        "\n",
        "# Evaluasi Model\n",
        "test_loss, test_acc = model.evaluate(test_images, test_labels)\n",
        "print(f\"Test accuracy: {test_acc:.2f}\")\n",
        "\n",
        "# Plot Akurasi\n",
        "plt.plot(history.history['accuracy'], label='Training Accuracy')\n",
        "plt.plot(history.history['val_accuracy'], label='Validation Accuracy')\n",
        "plt.xlabel('Epoch')\n",
        "plt.ylabel('Accuracy')\n",
        "plt.legend()\n",
        "plt.show()\n",
        "\n",
        "# Simpan Model\n",
        "model.save('cifar10 _image_classifier.keras')\n",
        "\n",
        "# Prediksi contoh pada test dataset\n",
        "predictions = model.predict(test_images[:5])\n",
        "\n",
        "# Tampilkan Hasil Prediksi\n",
        "for i in range(5):\n",
        "    plt.imshow(test_images[i])\n",
        "    plt.title(f\"Prediction: {class_names[predictions[i].argmax()]}\")\n",
        "    plt.show()\n",
        "\n",
        "# Fungsi Preprocessing Gambar\n",
        "def preprocess_image(img_path):\n",
        "    img = image.load_img(img_path, target_size=(32, 32))  # Resize to 32x32\n",
        "    img_array = image.img_to_array(img)  # Convert to NumPy array\n",
        "    img_array = img_array / 255.0       # Normalize pixel values\n",
        "    img_array = np.expand_dims(img_array, axis=0)  # Add batch dimension\n",
        "    return img_array\n",
        "\n",
        "# Path ke Gambar Kustom\n",
        "custom_image_path = 'plane.jpeg'  # Ganti dengan path gambar kustom Anda\n",
        "\n",
        "# Preprocess Gambar Kustom\n",
        "custom_image = preprocess_image(custom_image_path)\n",
        "\n",
        "# Prediksi dengan Model\n",
        "prediction = model.predict(custom_image)\n",
        "\n",
        "# Tampilkan Prediksi dan Probabilitas\n",
        "predicted_class = class_names[np.argmax(prediction)]\n",
        "predicted_prob = np.max(prediction)\n",
        "print(f\"Predicted: {predicted_class} (Confidence: {predicted_prob:.2f})\")\n",
        "\n",
        "# Tampilkan Gambar\n",
        "img = image.load_img(custom_image_path, target_size=(32, 32))\n",
        "plt.imshow(img)\n",
        "plt.title(f\"Predicted as: {predicted_class} (Confidence: {predicted_prob:.2f})\")\n",
        "plt.axis('off')\n",
        "plt.show()"
      ],
      "metadata": {
        "id": "r7E7VWfLjuw9"
      },
      "execution_count": null,
      "outputs": []
    },
    {
      "cell_type": "markdown",
      "source": [
        "# 8. proses menggunakan file"
      ],
      "metadata": {
        "id": "A9wLDdXkjy-f"
      }
    },
    {
      "cell_type": "code",
      "source": [
        "!python main.py"
      ],
      "metadata": {
        "id": "FVI89ywVj2n2"
      },
      "execution_count": null,
      "outputs": []
    }
  ]
}